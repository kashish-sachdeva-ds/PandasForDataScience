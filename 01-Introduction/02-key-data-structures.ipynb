{
 "cells": [
  {
   "cell_type": "markdown",
   "id": "8af726ee",
   "metadata": {},
   "source": [
    "# Key Data Structures in Pandas\n",
    "\n",
    "Pandas is built around two powerful data structures:\n",
    "\n",
    "1. **Series** – one-dimensional, like a column in Excel\n",
    "2. **DataFrame** – two-dimensional, like a table or spreadsheet\n",
    "\n",
    "---\n",
    "\n",
    "## What is a Pandas Series?\n",
    "\n",
    "A Series is:\n",
    "- A one-dimensional labeled array\n",
    "- Can hold any data type (int, float, string, etc.)\n",
    "- Think of it like a single column of data\n",
    "\n",
    "### Example:\n"
   ]
  },
  {
   "cell_type": "code",
   "execution_count": 7,
   "id": "e35f724a",
   "metadata": {},
   "outputs": [
    {
     "name": "stdout",
     "output_type": "stream",
     "text": [
      "a    10\n",
      "b    20\n",
      "c    30\n",
      "d    40\n",
      "dtype: int64\n"
     ]
    }
   ],
   "source": [
    "import pandas as pd\n",
    "\n",
    "data = [10, 20, 30, 40]\n",
    "labels = ['a', 'b', 'c', 'd']\n",
    "\n",
    "series = pd.Series(data, index=labels)\n",
    "print(series)\n"
   ]
  },
  {
   "cell_type": "markdown",
   "id": "cb41c86a",
   "metadata": {},
   "source": [
    "---\n",
    "\n",
    "## What is a Pandas DataFrame?\n",
    "\n",
    "A DataFrame is:\n",
    "- A two-dimensional table of rows and columns\n",
    "- Built from dictionaries, lists of lists, or other Series\n",
    "- It’s like a full Excel sheet in Python\n",
    "\n",
    "### Example:\n"
   ]
  },
  {
   "cell_type": "code",
   "execution_count": 8,
   "id": "97a33a57",
   "metadata": {},
   "outputs": [
    {
     "name": "stdout",
     "output_type": "stream",
     "text": [
      "      Name  Age     City\n",
      "0  Kashish   22    Delhi\n",
      "1    Ankit   24   Mumbai\n",
      "2    Priya   21  Chennai\n"
     ]
    }
   ],
   "source": [
    "data = {\n",
    "    'Name': ['Kashish', 'Ankit', 'Priya'],\n",
    "    'Age': [22, 24, 21],\n",
    "    'City': ['Delhi', 'Mumbai', 'Chennai']\n",
    "}\n",
    "\n",
    "df = pd.DataFrame(data)\n",
    "print(df)\n"
   ]
  },
  {
   "cell_type": "markdown",
   "id": "621350e1",
   "metadata": {},
   "source": [
    "---\n",
    "\n",
    "## Summary\n",
    "\n",
    "| Feature      | Series                       | DataFrame                     |\n",
    "|--------------|------------------------------|-------------------------------|\n",
    "| Dimension    | 1D                           | 2D                            |\n",
    "| Structure    | Labeled array                | Table of rows and columns     |\n",
    "| Use case     | Single column or list-like   | Dataset with multiple columns |\n",
    "\n",
    "Both are flexible, powerful, and essential for data manipulation in Pandas.\n"
   ]
  }
 ],
 "metadata": {
  "kernelspec": {
   "display_name": "base",
   "language": "python",
   "name": "python3"
  },
  "language_info": {
   "codemirror_mode": {
    "name": "ipython",
    "version": 3
   },
   "file_extension": ".py",
   "mimetype": "text/x-python",
   "name": "python",
   "nbconvert_exporter": "python",
   "pygments_lexer": "ipython3",
   "version": "3.12.7"
  }
 },
 "nbformat": 4,
 "nbformat_minor": 5
}
