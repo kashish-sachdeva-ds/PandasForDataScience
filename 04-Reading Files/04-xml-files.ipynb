{
 "cells": [
  {
   "cell_type": "markdown",
   "id": "eb65353e",
   "metadata": {},
   "source": [
    "# XML Handling in Pandas for Data Science\n",
    "\n",
    "This notebook is a part of my data science journey. It shows how to work with XML data using Python and Pandas — including real-world concepts like XPath, namespaces, and API integration.\n"
   ]
  },
  {
   "cell_type": "markdown",
   "id": "21fe2eab",
   "metadata": {},
   "source": [
    "\n",
    "## What is XML?\n",
    "\n",
    "- **XML** stands for **eXtensible Markup Language**.\n",
    "- XML is a **markup language** much like HTML.\n",
    "- It is **self-descriptive** — stores data in a structured, hierarchical format.\n",
    "- It was **designed to store and transport data**.\n",
    "- XML is a **W3C recommendation** and is often used in **web APIs, config files, and data interchange**.\n"
   ]
  },
  {
   "cell_type": "markdown",
   "id": "e332e0c2",
   "metadata": {},
   "source": [
    "\n",
    "## Project Goals:\n",
    "\n",
    "1. **Read XML data into a Pandas DataFrame**\n",
    "2. **Convert DataFrame back to XML**\n",
    "3. **Understand XML in real-world use**\n",
    "4. Learn about:\n",
    "   - XPath\n",
    "   - Namespaces\n",
    "   - XML in APIs\n"
   ]
  },
  {
   "cell_type": "markdown",
   "id": "c952b78a",
   "metadata": {},
   "source": [
    "## Step 1: Read XML File and Display as DataFrame"
   ]
  },
  {
   "cell_type": "code",
   "execution_count": 12,
   "id": "2b3c95f9",
   "metadata": {},
   "outputs": [
    {
     "data": {
      "text/html": [
       "<div>\n",
       "<style scoped>\n",
       "    .dataframe tbody tr th:only-of-type {\n",
       "        vertical-align: middle;\n",
       "    }\n",
       "\n",
       "    .dataframe tbody tr th {\n",
       "        vertical-align: top;\n",
       "    }\n",
       "\n",
       "    .dataframe thead th {\n",
       "        text-align: right;\n",
       "    }\n",
       "</style>\n",
       "<table border=\"1\" class=\"dataframe\">\n",
       "  <thead>\n",
       "    <tr style=\"text-align: right;\">\n",
       "      <th></th>\n",
       "      <th>shape</th>\n",
       "      <th>degrees</th>\n",
       "      <th>sides</th>\n",
       "    </tr>\n",
       "  </thead>\n",
       "  <tbody>\n",
       "    <tr>\n",
       "      <th>0</th>\n",
       "      <td>square</td>\n",
       "      <td>360</td>\n",
       "      <td>4.0</td>\n",
       "    </tr>\n",
       "    <tr>\n",
       "      <th>1</th>\n",
       "      <td>circle</td>\n",
       "      <td>360</td>\n",
       "      <td>NaN</td>\n",
       "    </tr>\n",
       "    <tr>\n",
       "      <th>2</th>\n",
       "      <td>triangle</td>\n",
       "      <td>180</td>\n",
       "      <td>3.0</td>\n",
       "    </tr>\n",
       "  </tbody>\n",
       "</table>\n",
       "</div>"
      ],
      "text/plain": [
       "      shape  degrees  sides\n",
       "0    square      360    4.0\n",
       "1    circle      360    NaN\n",
       "2  triangle      180    3.0"
      ]
     },
     "execution_count": 12,
     "metadata": {},
     "output_type": "execute_result"
    }
   ],
   "source": [
    "\n",
    "import pandas as pd\n",
    "\n",
    "# Read XML file into DataFrame\n",
    "df = pd.read_xml('data/shapes.xml')\n",
    "df\n"
   ]
  },
  {
   "cell_type": "markdown",
   "id": "ae595840",
   "metadata": {},
   "source": [
    "## Step 2: Read XML from a String"
   ]
  },
  {
   "cell_type": "code",
   "execution_count": 13,
   "id": "5d147dc1",
   "metadata": {},
   "outputs": [],
   "source": [
    "\n",
    "xml = '''<?xml version=\"1.0\" encoding=\"utf-8\"?>\n",
    "<data>\n",
    "  <row>\n",
    "    <shape>square</shape>\n",
    "    <degrees>360</degrees>\n",
    "    <sides>4.0</sides>\n",
    "  </row>\n",
    "  <row>\n",
    "    <shape>circle</shape>\n",
    "    <degrees>360</degrees>\n",
    "    <sides></sides>\n",
    "  </row>\n",
    "  <row>\n",
    "    <shape>triangle</shape>\n",
    "    <degrees>180</degrees>\n",
    "    <sides>3.0</sides>\n",
    "  </row>\n",
    "</data>'''\n"
   ]
  },
  {
   "cell_type": "markdown",
   "id": "40f00328",
   "metadata": {},
   "source": [
    "## Step 3: Convert XML String to DataFrame"
   ]
  },
  {
   "cell_type": "code",
   "execution_count": 15,
   "id": "b10f2557",
   "metadata": {},
   "outputs": [
    {
     "name": "stdout",
     "output_type": "stream",
     "text": [
      "      shape  degrees  sides\n",
      "0    square      360    4.0\n",
      "1    circle      360    NaN\n",
      "2  triangle      180    3.0\n"
     ]
    }
   ],
   "source": [
    "\n",
    "from io import StringIO\n",
    "\n",
    "# Convert string to file-like object\n",
    "df = pd.read_xml(StringIO(xml))\n",
    "print(df)"
   ]
  },
  {
   "cell_type": "markdown",
   "id": "548d1584",
   "metadata": {},
   "source": [
    "## Step 4: Convert DataFrame to XML and Save"
   ]
  },
  {
   "cell_type": "code",
   "execution_count": 16,
   "id": "d461c458",
   "metadata": {},
   "outputs": [],
   "source": [
    "\n",
    "df.to_xml('shapes1.xml')"
   ]
  },
  {
   "cell_type": "markdown",
   "id": "70d1038c",
   "metadata": {},
   "source": [
    "\n",
    "## What is XPath?\n",
    "\n",
    "- XPath is a **query language** to navigate through elements and attributes in an XML document.\n",
    "- Think of it as **SQL for XML**.\n",
    "\n",
    "Example usage:\n",
    "```python\n",
    "df = pd.read_xml('data/shapes.xml', xpath='.//row')\n",
    "```\n"
   ]
  },
  {
   "cell_type": "markdown",
   "id": "4b699b32",
   "metadata": {},
   "source": [
    "## Real Example with Nested XML + XPath"
   ]
  },
  {
   "cell_type": "code",
   "execution_count": 19,
   "id": "7b8678f2",
   "metadata": {},
   "outputs": [],
   "source": [
    "\n",
    "# Example nested XML (not executed)\n",
    "# <shapes>\n",
    "#   <shape>\n",
    "#     <name>square</name>\n",
    "#     <geometry>\n",
    "#       <degrees>360</degrees>\n",
    "#       <sides>4</sides>\n",
    "#     </geometry>\n",
    "#   </shape>\n",
    "# </shapes>\n",
    "\n",
    "# Use xpath to read nested elements\n",
    "# pd.read_xml('nested_shapes.xml', xpath='.//shape')\n"
   ]
  },
  {
   "cell_type": "markdown",
   "id": "67401b74",
   "metadata": {},
   "source": [
    "## What are XML Namespaces?"
   ]
  },
  {
   "cell_type": "code",
   "execution_count": 18,
   "id": "c2a3571e",
   "metadata": {},
   "outputs": [],
   "source": [
    "\n",
    "# Example XML with namespace (not executed)\n",
    "# <ns:shape xmlns:ns=\"http://example.com/schema\">\n",
    "#   <ns:name>square</ns:name>\n",
    "# </ns:shape>\n",
    "\n",
    "# Read with namespace\n",
    "# pd.read_xml('namespaced.xml', xpath='.//ns:shape', namespaces={'ns': 'http://example.com/schema'})\n"
   ]
  },
  {
   "cell_type": "markdown",
   "id": "d9e6a985",
   "metadata": {},
   "source": [
    "## XML in APIs (Real-World Use)"
   ]
  },
  {
   "cell_type": "code",
   "execution_count": 20,
   "id": "2f0a782d",
   "metadata": {},
   "outputs": [],
   "source": [
    "\n",
    "import requests\n",
    "from io import StringIO\n",
    "\n",
    "# Sample (replace with real API)\n",
    "# response = requests.get('https://example.com/data.xml')\n",
    "# df = pd.read_xml(StringIO(response.text))"
   ]
  },
  {
   "cell_type": "markdown",
   "id": "6a5354af",
   "metadata": {},
   "source": [
    "\n",
    "## Summary\n",
    "\n",
    "| Task                         | Method                         |\n",
    "|------------------------------|--------------------------------|\n",
    "| Read XML file                | `pd.read_xml('file.xml')`      |\n",
    "| Read XML from string         | `pd.read_xml(StringIO(xml))`   |\n",
    "| Save DataFrame to XML        | `df.to_xml('output.xml')`      |\n",
    "| Read nested XML              | Use `xpath` parameter          |\n",
    "| Handle namespaces            | Use `namespaces` parameter     |\n"
   ]
  },
  {
   "cell_type": "markdown",
   "id": "6416a3c3",
   "metadata": {},
   "source": [
    "\n",
    "## Final Tips\n",
    "\n",
    "- XML is everywhere: **APIs, config files, mobile data, and more**.\n",
    "- **XPath** helps select exact elements.\n",
    "- Combine with `requests` for **live XML data from APIs**.\n"
   ]
  }
 ],
 "metadata": {
  "language_info": {
   "name": "python"
  }
 },
 "nbformat": 4,
 "nbformat_minor": 5
}
