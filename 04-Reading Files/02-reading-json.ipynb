{
 "cells": [
  {
   "cell_type": "markdown",
   "id": "45419de0",
   "metadata": {},
   "source": [
    "# Reading JSON Files in Pandas\n",
    "\n",
    "In this notebook, we will explore how to work with JSON files using Pandas. We will cover:\n",
    "1. Reading JSON with `pd.read_json()`\n",
    "2. Converting DataFrames to JSON with `df.to_json()`\n",
    "3. Flattening nested JSON using `pd.json_normalize()`\n"
   ]
  },
  {
   "cell_type": "markdown",
   "id": "05d0061d",
   "metadata": {},
   "source": [
    "## 1. Read JSON with `pd.read_json()`\n",
    "### Example: JSON string with nested dictionary"
   ]
  },
  {
   "cell_type": "code",
   "execution_count": 1,
   "id": "2d0f23c8",
   "metadata": {},
   "outputs": [
    {
     "name": "stdout",
     "output_type": "stream",
     "text": [
      "<class 'str'>\n",
      "  employee_name                          email  \\\n",
      "0       kashish  kashish.sachdeva.42@gmail.com   \n",
      "\n",
      "                                         job_profile  \n",
      "0  {'title': 'Team Lead', 'title2': 'Data scienti...  \n"
     ]
    }
   ],
   "source": [
    "import pandas as pd\n",
    "from io import StringIO\n",
    "\n",
    "data = '{\"employee_name\": \"kashish\", \"email\": \"kashish.sachdeva.42@gmail.com\", \"job_profile\": [{\"title\": \"Team Lead\", \"title2\": \"Data scientist\"}]}'\n",
    "\n",
    "# Check type\n",
    "print(type(data))  # str\n",
    "\n",
    "# Read JSON\n",
    "\n",
    "df = pd.read_json(StringIO(data))\n",
    "print(df)\n"
   ]
  },
  {
   "cell_type": "markdown",
   "id": "836b7f63",
   "metadata": {},
   "source": [
    "## 2. JSON Orient Formats\n",
    "You can load JSON in different orientations:"
   ]
  },
  {
   "cell_type": "code",
   "execution_count": 8,
   "id": "fe04d030",
   "metadata": {},
   "outputs": [
    {
     "name": "stdout",
     "output_type": "stream",
     "text": [
      "Default: {\"col1\":{\"row1\":\"a\",\"row2\":\"c\"},\"col2\":{\"row1\":\"b\",\"row2\":\"d\"}}\n",
      "Index: {\"row1\":{\"col1\":\"a\",\"col2\":\"b\"},\"row2\":{\"col1\":\"c\",\"col2\":\"d\"}}\n",
      "Columns: {\"col1\":{\"row1\":\"a\",\"row2\":\"c\"},\"col2\":{\"row1\":\"b\",\"row2\":\"d\"}}\n",
      "Records: [{\"col1\":\"a\",\"col2\":\"b\"},{\"col1\":\"c\",\"col2\":\"d\"}]\n",
      "Split: {\"columns\":[\"col1\",\"col2\"],\"index\":[\"row1\",\"row2\"],\"data\":[[\"a\",\"b\"],[\"c\",\"d\"]]}\n",
      "Table: {\"schema\":{\"fields\":[{\"name\":\"index\",\"type\":\"string\"},{\"name\":\"col1\",\"type\":\"string\"},{\"name\":\"col2\",\"type\":\"string\"}],\"primaryKey\":[\"index\"],\"pandas_version\":\"1.4.0\"},\"data\":[{\"index\":\"row1\",\"col1\":\"a\",\"col2\":\"b\"},{\"index\":\"row2\",\"col1\":\"c\",\"col2\":\"d\"}]}\n"
     ]
    }
   ],
   "source": [
    "df = pd.DataFrame([['a','b'], ['c','d']], index=['row1', 'row2'], columns=['col1', 'col2'])\n",
    "\n",
    "# Different JSON orientations\n",
    "print(\"Default:\", df.to_json())\n",
    "print(\"Index:\", df.to_json(orient='index'))\n",
    "print(\"Columns:\", df.to_json(orient='columns'))\n",
    "print(\"Records:\", df.to_json(orient='records'))\n",
    "print(\"Split:\", df.to_json(orient='split'))\n",
    "print(\"Table:\", df.to_json(orient='table'))"
   ]
  },
  {
   "cell_type": "code",
   "execution_count": 10,
   "id": "0c9d41e4",
   "metadata": {},
   "outputs": [
    {
     "data": {
      "text/html": [
       "<div>\n",
       "<style scoped>\n",
       "    .dataframe tbody tr th:only-of-type {\n",
       "        vertical-align: middle;\n",
       "    }\n",
       "\n",
       "    .dataframe tbody tr th {\n",
       "        vertical-align: top;\n",
       "    }\n",
       "\n",
       "    .dataframe thead th {\n",
       "        text-align: right;\n",
       "    }\n",
       "</style>\n",
       "<table border=\"1\" class=\"dataframe\">\n",
       "  <thead>\n",
       "    <tr style=\"text-align: right;\">\n",
       "      <th></th>\n",
       "      <th>col1</th>\n",
       "      <th>col2</th>\n",
       "    </tr>\n",
       "  </thead>\n",
       "  <tbody>\n",
       "    <tr>\n",
       "      <th>row1</th>\n",
       "      <td>a</td>\n",
       "      <td>b</td>\n",
       "    </tr>\n",
       "    <tr>\n",
       "      <th>row2</th>\n",
       "      <td>c</td>\n",
       "      <td>d</td>\n",
       "    </tr>\n",
       "  </tbody>\n",
       "</table>\n",
       "</div>"
      ],
      "text/plain": [
       "     col1 col2\n",
       "row1    a    b\n",
       "row2    c    d"
      ]
     },
     "execution_count": 10,
     "metadata": {},
     "output_type": "execute_result"
    }
   ],
   "source": [
    "# Read using 'table' orient\n",
    "schema = df.to_json(orient='table')\n",
    "pd.read_json(StringIO(schema), orient='table')"
   ]
  },
  {
   "cell_type": "markdown",
   "id": "38a294d9",
   "metadata": {},
   "source": [
    "## 3. Flatten Nested JSON using `pd.json_normalize()`\n",
    "### Example 1: Nested dict inside list"
   ]
  },
  {
   "cell_type": "code",
   "execution_count": 11,
   "id": "b1092d44",
   "metadata": {},
   "outputs": [
    {
     "data": {
      "text/html": [
       "<div>\n",
       "<style scoped>\n",
       "    .dataframe tbody tr th:only-of-type {\n",
       "        vertical-align: middle;\n",
       "    }\n",
       "\n",
       "    .dataframe tbody tr th {\n",
       "        vertical-align: top;\n",
       "    }\n",
       "\n",
       "    .dataframe thead th {\n",
       "        text-align: right;\n",
       "    }\n",
       "</style>\n",
       "<table border=\"1\" class=\"dataframe\">\n",
       "  <thead>\n",
       "    <tr style=\"text-align: right;\">\n",
       "      <th></th>\n",
       "      <th>employee_name</th>\n",
       "      <th>email</th>\n",
       "      <th>job_profile.title</th>\n",
       "      <th>job_profile.title2</th>\n",
       "    </tr>\n",
       "  </thead>\n",
       "  <tbody>\n",
       "    <tr>\n",
       "      <th>0</th>\n",
       "      <td>kashish</td>\n",
       "      <td>kashish.sachdeva.42@gmail.com</td>\n",
       "      <td>Team Lead</td>\n",
       "      <td>Data scientist</td>\n",
       "    </tr>\n",
       "  </tbody>\n",
       "</table>\n",
       "</div>"
      ],
      "text/plain": [
       "  employee_name                          email job_profile.title  \\\n",
       "0       kashish  kashish.sachdeva.42@gmail.com         Team Lead   \n",
       "\n",
       "  job_profile.title2  \n",
       "0     Data scientist  "
      ]
     },
     "execution_count": 11,
     "metadata": {},
     "output_type": "execute_result"
    }
   ],
   "source": [
    "data = [{\n",
    "    \"employee_name\": \"kashish\",\n",
    "    \"email\": \"kashish.sachdeva.42@gmail.com\",\n",
    "    \"job_profile\": {\n",
    "        \"title\": \"Team Lead\",\n",
    "        \"title2\": \"Data scientist\"\n",
    "    }\n",
    "}]\n",
    "\n",
    "pd.json_normalize(data)\n"
   ]
  },
  {
   "cell_type": "markdown",
   "id": "3b97618e",
   "metadata": {},
   "source": [
    "### Example 2: Nested inside list of dicts"
   ]
  },
  {
   "cell_type": "code",
   "execution_count": 12,
   "id": "9fa831b4",
   "metadata": {},
   "outputs": [
    {
     "name": "stdout",
     "output_type": "stream",
     "text": [
      "    id        name  fitness.height  fitness.weight\n",
      "0  1.0   Cole Volk             130              60\n",
      "1  NaN    Mark Reg             130              60\n",
      "2  2.0  Faye Raker             130              60\n",
      "    id        name  fitness.height  fitness.weight\n",
      "0  1.0   Cole Volk             130              60\n",
      "1  NaN    Mark Reg             130              60\n",
      "2  2.0  Faye Raker             130              60\n"
     ]
    }
   ],
   "source": [
    "data = [\n",
    "    {\"id\": 1, \"name\": \"Cole Volk\", \"fitness\": {\"height\": 130, \"weight\": 60}},\n",
    "    {\"name\": \"Mark Reg\", \"fitness\": {\"height\": 130, \"weight\": 60}},\n",
    "    {\"id\": 2, \"name\": \"Faye Raker\", \"fitness\": {\"height\": 130, \"weight\": 60}}\n",
    "]\n",
    "\n",
    "# Default (no flattening)\n",
    "print(pd.json_normalize(data))\n",
    "\n",
    "# Flatten one level\n",
    "print(pd.json_normalize(data, max_level=1))\n"
   ]
  },
  {
   "cell_type": "markdown",
   "id": "1ed83ec3",
   "metadata": {},
   "source": [
    "## 4. Advanced Example: JSON with nested lists and dicts"
   ]
  },
  {
   "cell_type": "code",
   "execution_count": 13,
   "id": "71d12e98",
   "metadata": {},
   "outputs": [
    {
     "data": {
      "text/html": [
       "<div>\n",
       "<style scoped>\n",
       "    .dataframe tbody tr th:only-of-type {\n",
       "        vertical-align: middle;\n",
       "    }\n",
       "\n",
       "    .dataframe tbody tr th {\n",
       "        vertical-align: top;\n",
       "    }\n",
       "\n",
       "    .dataframe thead th {\n",
       "        text-align: right;\n",
       "    }\n",
       "</style>\n",
       "<table border=\"1\" class=\"dataframe\">\n",
       "  <thead>\n",
       "    <tr style=\"text-align: right;\">\n",
       "      <th></th>\n",
       "      <th>name</th>\n",
       "      <th>population</th>\n",
       "      <th>state</th>\n",
       "      <th>shortname</th>\n",
       "      <th>info.governor</th>\n",
       "    </tr>\n",
       "  </thead>\n",
       "  <tbody>\n",
       "    <tr>\n",
       "      <th>0</th>\n",
       "      <td>Dade</td>\n",
       "      <td>12345</td>\n",
       "      <td>Florida</td>\n",
       "      <td>FL</td>\n",
       "      <td>Rick Scott</td>\n",
       "    </tr>\n",
       "    <tr>\n",
       "      <th>1</th>\n",
       "      <td>Broward</td>\n",
       "      <td>40000</td>\n",
       "      <td>Florida</td>\n",
       "      <td>FL</td>\n",
       "      <td>Rick Scott</td>\n",
       "    </tr>\n",
       "    <tr>\n",
       "      <th>2</th>\n",
       "      <td>Palm Beach</td>\n",
       "      <td>60000</td>\n",
       "      <td>Florida</td>\n",
       "      <td>FL</td>\n",
       "      <td>Rick Scott</td>\n",
       "    </tr>\n",
       "    <tr>\n",
       "      <th>3</th>\n",
       "      <td>Summit</td>\n",
       "      <td>1234</td>\n",
       "      <td>Ohio</td>\n",
       "      <td>OH</td>\n",
       "      <td>John Kasich</td>\n",
       "    </tr>\n",
       "    <tr>\n",
       "      <th>4</th>\n",
       "      <td>Cuyahoga</td>\n",
       "      <td>1337</td>\n",
       "      <td>Ohio</td>\n",
       "      <td>OH</td>\n",
       "      <td>John Kasich</td>\n",
       "    </tr>\n",
       "  </tbody>\n",
       "</table>\n",
       "</div>"
      ],
      "text/plain": [
       "         name  population    state shortname info.governor\n",
       "0        Dade       12345  Florida        FL    Rick Scott\n",
       "1     Broward       40000  Florida        FL    Rick Scott\n",
       "2  Palm Beach       60000  Florida        FL    Rick Scott\n",
       "3      Summit        1234     Ohio        OH   John Kasich\n",
       "4    Cuyahoga        1337     Ohio        OH   John Kasich"
      ]
     },
     "execution_count": 13,
     "metadata": {},
     "output_type": "execute_result"
    }
   ],
   "source": [
    "data = [\n",
    "    {\n",
    "        \"state\": \"Florida\",\n",
    "        \"shortname\": \"FL\",\n",
    "        \"info\": {\"governor\": \"Rick Scott\"},\n",
    "        \"counties\": [\n",
    "            {\"name\": \"Dade\", \"population\": 12345},\n",
    "            {\"name\": \"Broward\", \"population\": 40000},\n",
    "            {\"name\": \"Palm Beach\", \"population\": 60000}\n",
    "        ]\n",
    "    },\n",
    "    {\n",
    "        \"state\": \"Ohio\",\n",
    "        \"shortname\": \"OH\",\n",
    "        \"info\": {\"governor\": \"John Kasich\"},\n",
    "        \"counties\": [\n",
    "            {\"name\": \"Summit\", \"population\": 1234},\n",
    "            {\"name\": \"Cuyahoga\", \"population\": 1337}\n",
    "        ]\n",
    "    }\n",
    "]\n",
    "\n",
    "pd.json_normalize(\n",
    "    data,\n",
    "    record_path=\"counties\",\n",
    "    meta=[\"state\", \"shortname\", [\"info\", \"governor\"]]\n",
    ")\n"
   ]
  },
  {
   "cell_type": "markdown",
   "id": "859b5733",
   "metadata": {},
   "source": [
    "## Summary\n",
    "\n",
    "| Task                  | Function              |\n",
    "|-----------------------|------------------------|\n",
    "| Read JSON string      | `pd.read_json()`       |\n",
    "| Convert to JSON       | `df.to_json()`         |\n",
    "| Flatten nested JSON   | `pd.json_normalize()`  |\n",
    "| Handle formats        | Use `orient=` carefully |\n"
   ]
  }
 ],
 "metadata": {
  "kernelspec": {
   "display_name": "base",
   "language": "python",
   "name": "python3"
  },
  "language_info": {
   "codemirror_mode": {
    "name": "ipython",
    "version": 3
   },
   "file_extension": ".py",
   "mimetype": "text/x-python",
   "name": "python",
   "nbconvert_exporter": "python",
   "pygments_lexer": "ipython3",
   "version": "3.12.7"
  }
 },
 "nbformat": 4,
 "nbformat_minor": 5
}
