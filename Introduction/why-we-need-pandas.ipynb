{
 "cells": [
  {
   "cell_type": "markdown",
   "id": "c70be4e0",
   "metadata": {},
   "source": [
    "# 📌 Why We Need Pandas – Introduction to the Library"
   ]
  },
  {
   "cell_type": "markdown",
   "id": "82fdb4ca",
   "metadata": {},
   "source": [
    "In data science, we work with a lot of structured data — \n",
    "CSV files, Excel sheets, databases, APIs, etc.\n",
    "\n",
    "Using only core Python (like lists, loops, and dictionaries) \n",
    "for data manipulation becomes:\n",
    "\n",
    "- ❌ Slow\n",
    "- ❌ Complex\n",
    "- ❌ Error-prone\n",
    "\n",
    "Let's look at an example."
   ]
  },
  {
   "cell_type": "markdown",
   "id": "445d46ba",
   "metadata": {},
   "source": []
  },
  {
   "cell_type": "code",
   "execution_count": null,
   "id": "163743c6",
   "metadata": {},
   "outputs": [],
   "source": [
    "# Trying to find the average age using plain Python lists\n",
    "\n",
    "data = [\n",
    "    [\"Alice\", 24],\n",
    "    [\"Bob\", 27],\n",
    "    [\"Charlie\", 22],\n",
    "    [\"Diana\", 29]\n",
    "]\n",
    "\n",
    "total = 0\n",
    "for person in data:\n",
    "    total += person[1]\n",
    "\n",
    "average_age = total / len(data)\n",
    "print(\"Average Age:\", average_age)\n",
    "# Output: Average Age: 25.5"
   ]
  },
  {
   "cell_type": "markdown",
   "id": "58548b72",
   "metadata": {},
   "source": [
    "This works — but:\n",
    "\n",
    "- We access data using `person[1]`, which is not readable.\n",
    "- No column names.\n",
    "- For larger datasets, this gets hard to manage.\n",
    "\n",
    "📉 That's where **Pandas** helps!\n"
   ]
  },
  {
   "cell_type": "markdown",
   "id": "ce7dc06b",
   "metadata": {},
   "source": [
    "🐼 **Pandas** is an open-source Python library that makes data handling easy and powerful.\n",
    "\n",
    "It introduces two main structures:\n",
    "\n",
    "- `Series`: 1D labeled data\n",
    "- `DataFrame`: 2D table with rows and columns (like Excel)\n",
    "\n",
    "Let’s see how we can do the same task using Pandas.\n"
   ]
  },
  {
   "cell_type": "code",
   "execution_count": null,
   "id": "aa58ad07",
   "metadata": {},
   "outputs": [],
   "source": [
    "import pandas as pd\n",
    "\n",
    "# Creating a DataFrame\n",
    "df = pd.DataFrame({\n",
    "    \"Name\": [\"Alice\", \"Bob\", \"Charlie\", \"Diana\"],\n",
    "    \"Age\": [24, 27, 22, 29]\n",
    "})\n",
    "\n",
    "# Calculate average age\n",
    "average_age = df[\"Age\"].mean()\n",
    "print(\"Average Age:\", average_age)\n",
    "# Output: Average Age: 25.5"
   ]
  },
  {
   "cell_type": "markdown",
   "id": "25b1e8cc",
   "metadata": {},
   "source": [
    "✅ Cleaner code  \n",
    "✅ Column names make it readable  \n",
    "✅ Built-in functions like `.mean()` save time\n",
    "\n",
    "Pandas makes it easier to clean, filter, and analyze data — all in fewer lines of code.\n"
   ]
  },
  {
   "cell_type": "markdown",
   "id": "3753cd08",
   "metadata": {},
   "source": [
    "🔍 **Summary**\n",
    "\n",
    "- Core Python is not efficient for working with structured data.\n",
    "- Pandas provides fast, readable, and flexible tools to handle real-world datasets.\n",
    "- That’s why Pandas is a key library in every data science project.\n"
   ]
  }
 ],
 "metadata": {
  "kernelspec": {
   "display_name": "base",
   "language": "python",
   "name": "python3"
  },
  "language_info": {
   "codemirror_mode": {
    "name": "ipython",
    "version": 3
   },
   "file_extension": ".py",
   "mimetype": "text/x-python",
   "name": "python",
   "nbconvert_exporter": "python",
   "pygments_lexer": "ipython3",
   "version": "3.12.7"
  }
 },
 "nbformat": 4,
 "nbformat_minor": 5
}
